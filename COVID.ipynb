{
  "nbformat": 4,
  "nbformat_minor": 0,
  "metadata": {
    "colab": {
      "name": "COVID.ipynb",
      "provenance": [],
      "collapsed_sections": []
    },
    "kernelspec": {
      "display_name": "Python 3",
      "language": "python",
      "name": "python3"
    },
    "language_info": {
      "codemirror_mode": {
        "name": "ipython",
        "version": 3
      },
      "file_extension": ".py",
      "mimetype": "text/x-python",
      "name": "python",
      "nbconvert_exporter": "python",
      "pygments_lexer": "ipython3",
      "version": "3.8.5"
    }
  },
  "cells": [
    {
      "cell_type": "markdown",
      "metadata": {
        "id": "j0r-o7AWuyFE"
      },
      "source": [
        "# Analiza podataka - COVID-19"
      ]
    },
    {
      "cell_type": "markdown",
      "metadata": {
        "id": "Y_Pgca-MRUXv"
      },
      "source": [
        "# **Uvoz neophodnih paketa**\n",
        "\n",
        "---\n",
        "\n"
      ]
    },
    {
      "cell_type": "code",
      "metadata": {
        "id": "ot2P31oZgsvL"
      },
      "source": [
        "pip install --upgrade plotly"
      ],
      "execution_count": null,
      "outputs": []
    },
    {
      "cell_type": "code",
      "metadata": {
        "id": "hcsHCzMVRJlI"
      },
      "source": [
        "import pandas as pd\n",
        "import numpy as np\n",
        "import plotly as py\n",
        "import plotly.express as px\n",
        "import plotly.graph_objects as go\n",
        "from plotly.subplots import make_subplots\n",
        "\n",
        "import folium\n",
        "\n",
        "import math"
      ],
      "execution_count": null,
      "outputs": []
    },
    {
      "cell_type": "markdown",
      "metadata": {
        "id": "c681PqBeRcog"
      },
      "source": [
        "# **Uvoz podataka i osnovne informacije**\n",
        "\n",
        "\n",
        "---\n",
        "\n"
      ]
    },
    {
      "cell_type": "code",
      "metadata": {
        "id": "ff39gZSbRg5H"
      },
      "source": [
        "url=\"https://raw.githubusercontent.com/laxmimerit/Covid-19-Preprocessed-Dataset/master/preprocessed/covid_19_data_cleaned.csv\"\n",
        "df=pd.read_csv(url, parse_dates=['Date'])"
      ],
      "execution_count": null,
      "outputs": []
    },
    {
      "cell_type": "code",
      "metadata": {
        "id": "f5lcEmL9vNXJ"
      },
      "source": [
        "df.head()"
      ],
      "execution_count": null,
      "outputs": []
    },
    {
      "cell_type": "code",
      "metadata": {
        "id": "YrPRZJ0yvNe5"
      },
      "source": [
        "df.tail()"
      ],
      "execution_count": null,
      "outputs": []
    },
    {
      "cell_type": "code",
      "metadata": {
        "id": "k2w9ImyLvNk2"
      },
      "source": [
        "df.shape "
      ],
      "execution_count": null,
      "outputs": []
    },
    {
      "cell_type": "code",
      "metadata": {
        "id": "SSXkcKB_vWxO"
      },
      "source": [
        "df.describe()"
      ],
      "execution_count": null,
      "outputs": []
    },
    {
      "cell_type": "code",
      "metadata": {
        "id": "_TAPwXHHQr98"
      },
      "source": [
        "country_daywise =pd.read_csv('https://raw.githubusercontent.com/laxmimerit/Covid-19-Preprocessed-Dataset/master/preprocessed/country_daywise.csv',parse_dates=['Date'])\n",
        "\n",
        "countrywise =pd.read_csv('https://raw.githubusercontent.com/laxmimerit/Covid-19-Preprocessed-Dataset/master/preprocessed/countrywise.csv')\n",
        "\n",
        "daywise =pd.read_csv('https://raw.githubusercontent.com/laxmimerit/Covid-19-Preprocessed-Dataset/master/preprocessed/daywise.csv',parse_dates=['Date'])"
      ],
      "execution_count": null,
      "outputs": []
    },
    {
      "cell_type": "code",
      "metadata": {
        "id": "CvvLXKgdRjUy"
      },
      "source": [
        "df['Province/State'] = df['Province/State'].fillna(\"\")\n",
        "df.head()"
      ],
      "execution_count": null,
      "outputs": []
    },
    {
      "cell_type": "code",
      "metadata": {
        "id": "UZvAemoDRmZU"
      },
      "source": [
        "confirmed = df.groupby('Date').sum()['Confirmed'].reset_index()\n",
        "recovered = df.groupby('Date').sum()['Recovered'].reset_index()\n",
        "deaths = df.groupby('Date').sum()['Deaths'].reset_index()"
      ],
      "execution_count": null,
      "outputs": []
    },
    {
      "cell_type": "code",
      "metadata": {
        "id": "ViHycTu-RqwV"
      },
      "source": [
        "df.isnull().sum()"
      ],
      "execution_count": null,
      "outputs": []
    },
    {
      "cell_type": "code",
      "metadata": {
        "id": "7NkX9PLwRqiR"
      },
      "source": [
        "df.info()"
      ],
      "execution_count": null,
      "outputs": []
    },
    {
      "cell_type": "code",
      "metadata": {
        "id": "hWD9wTI7RqRA"
      },
      "source": [
        "df.query('Country == \"Serbia\"')"
      ],
      "execution_count": null,
      "outputs": []
    },
    {
      "cell_type": "markdown",
      "metadata": {
        "id": "33FZCLTFQr-A"
      },
      "source": [
        "# Ukupan broj potvrđenih, oporavljenih i umrlih u svetu\n",
        "\n",
        "---\n",
        "\n"
      ]
    },
    {
      "cell_type": "code",
      "metadata": {
        "id": "Jxoht6hxRw-f"
      },
      "source": [
        "fig = go.Figure()\n",
        "\n",
        "fig.add_trace(go.Scatter(x=confirmed['Date'],y=confirmed['Confirmed'], mode='lines+markers', name='Confirmed',line=dict(color='Orange',width=2)))\n",
        "fig.add_trace(go.Scatter(x=recovered['Date'],y=recovered['Recovered'], mode='lines+markers', name='Recovered',line=dict(color='Green',width=2)))\n",
        "fig.add_trace(go.Scatter(x=deaths['Date'],y=deaths['Deaths'], mode='lines+markers', name='Deaths',line=dict(color='Red',width=2)))\n",
        "\n",
        "fig.update_layout(title='<b>Covid-19 podaci</b>',title_x=0.5,xaxis_tickfont_size=14,yaxis=dict(title='Broj slučajeva'))\n",
        "\n",
        "fig.show()"
      ],
      "execution_count": null,
      "outputs": []
    },
    {
      "cell_type": "markdown",
      "metadata": {
        "id": "RPv_7ynwQr-w"
      },
      "source": [
        "# Gustina slučajeva\n",
        "\n",
        "---\n",
        "\n",
        "\n",
        "\n"
      ]
    },
    {
      "cell_type": "code",
      "metadata": {
        "id": "iQxdyIm2Qr-w"
      },
      "source": [
        "df['Date']=df['Date'].astype(str)"
      ],
      "execution_count": null,
      "outputs": []
    },
    {
      "cell_type": "code",
      "metadata": {
        "id": "otW_W6ulQr-w"
      },
      "source": [
        "fig = px.density_mapbox(df,lat = 'Lat', lon = 'Long' , hover_name = 'Country' , hover_data = ['Confirmed', 'Recovered', 'Deaths'], animation_frame='Date',color_continuous_scale= 'Portland',radius =7, zoom=0,height=700)\n",
        "fig.update_layout(title='<b>Širenje infekcije Covid-19 tokom vremena</b>',title_x=0.5)\n",
        "fig.update_layout(mapbox_style='open-street-map', mapbox_center_lon=0)\n",
        "fig.show()"
      ],
      "execution_count": null,
      "outputs": []
    },
    {
      "cell_type": "markdown",
      "metadata": {
        "id": "W1HTPfjnQr-0"
      },
      "source": [
        "\n",
        "# Folium mape\n",
        "\n",
        "\n",
        "---\n",
        "\n",
        "\n",
        "\n",
        "\n",
        "\n"
      ]
    },
    {
      "cell_type": "code",
      "metadata": {
        "id": "lBKlc5FdRMXQ"
      },
      "source": [
        "sample=df[df['Date']==max(df['Date'])]\n",
        "sample"
      ],
      "execution_count": null,
      "outputs": []
    },
    {
      "cell_type": "code",
      "metadata": {
        "id": "NupKt5tNRMXQ"
      },
      "source": [
        "mp=folium.Map(location=[0,0], tiles='cartodbpositron', min_zoom= 1, max_zoom=4, zoom_start=1)\n",
        "\n",
        "for i in range(0, len(sample)):\n",
        "  folium.Circle(location=[sample.iloc[i]['Lat'], sample.iloc[i]['Long']], color='crimson', fill='crimson',\n",
        "                tooltip='<li><bold> Country:' + str(sample.iloc[i]['Country'])+\n",
        "                        '<li><bold> Province:' + str(sample.iloc[i]['Province/State'])+\n",
        "                          '<li><bold> Confirmed:' + str(sample.iloc[i]['Confirmed'])+\n",
        "                            '<li><bold> Deaths:' + str(sample.iloc[i]['Deaths']),\n",
        "                radius=int(sample.iloc[i]['Confirmed'])**0.5).add_to(mp)\n",
        "\n",
        "mp"
      ],
      "execution_count": null,
      "outputs": []
    },
    {
      "cell_type": "markdown",
      "metadata": {
        "id": "JjHlnuTpRMXR"
      },
      "source": [
        "# Potvrdjeni slučajevi preko Choropleth Map\n",
        "\n",
        "\n",
        "---\n",
        "\n"
      ]
    },
    {
      "cell_type": "code",
      "metadata": {
        "id": "W6Vm7M0yRMXR"
      },
      "source": [
        "fig=px.choropleth(country_daywise, locations='Country', locationmode='country names', color=np.log(country_daywise['Confirmed']),\n",
        "                  hover_name='Country', animation_frame=country_daywise['Date'].dt.strftime('%Y-%m-%d'),\n",
        "                  title='<b>Slučajevi tokom vremena</b>', color_continuous_scale=px.colors.sequential.Inferno)\n",
        "\n",
        "fig.update(layout_coloraxis_showscale=True)\n",
        "fig.update_layout(title_x=0.5)\n",
        "fig.show()"
      ],
      "execution_count": null,
      "outputs": []
    },
    {
      "cell_type": "code",
      "metadata": {
        "id": "540KBE5xLi_X"
      },
      "source": [
        ""
      ],
      "execution_count": null,
      "outputs": []
    },
    {
      "cell_type": "markdown",
      "metadata": {
        "id": "xD_n-RZwRMXR"
      },
      "source": [
        "# **Smrtni slučajevi i oporavljeni na 100 slučajeva**\n",
        "\n",
        "---\n",
        "\n",
        "\n",
        "\n",
        "\n"
      ]
    },
    {
      "cell_type": "code",
      "metadata": {
        "id": "TBAxDGHqRMXR"
      },
      "source": [
        "daywise.head()"
      ],
      "execution_count": null,
      "outputs": []
    },
    {
      "cell_type": "code",
      "metadata": {
        "id": "05tQIqivUnH2"
      },
      "source": [
        "fig_c=px.bar(daywise, x='Date', y='Confirmed', color_discrete_sequence=['#F86E51']) \n",
        "fig_d=px.bar(daywise, x='Date', y='Deaths', color_discrete_sequence=['#FB9EC4'])\n",
        "\n",
        "fig=make_subplots(rows=1, cols=2, shared_xaxes=False, horizontal_spacing=0.1, \n",
        "                  subplot_titles=('<b>Potvrđeni slučajevi</b>', '<b>Smrtni slučajevi</b>'))\n",
        "\n",
        "fig.add_trace(fig_c['data'][0], row=1, col=1) \n",
        "fig.add_trace(fig_d['data'][0], row=1, col=2)\n",
        "\n",
        "fig.update_layout(height=480) \n",
        "fig.show()"
      ],
      "execution_count": null,
      "outputs": []
    },
    {
      "cell_type": "markdown",
      "metadata": {
        "id": "G8Pg90iWRMXR"
      },
      "source": [
        "# **Potvrdjeni i smrtni slučajevi preko Static Colormap**\n",
        "\n",
        "\n",
        "---\n",
        "\n"
      ]
    },
    {
      "cell_type": "code",
      "metadata": {
        "id": "iZHSqSCRRMXR"
      },
      "source": [
        "fig_c=px.choropleth(countrywise, locations='Country', locationmode='country names',\n",
        "                    color=np.log(countrywise['Confirmed']), hover_name= 'Country' ,\n",
        "                    hover_data=['Confirmed'])\n",
        "\n",
        "sample=countrywise[countrywise['Deaths']>0]\n",
        "fig_d=px.choropleth(sample, locations='Country', locationmode='country names',\n",
        "                    color=np.log(sample['Deaths']), hover_name= 'Country' ,\n",
        "                    hover_data=['Deaths'])\n",
        "\n",
        "fig=make_subplots(rows=1, cols=2, subplot_titles=['<b>Potvrđeni slučajevi</b>','<b>Smrtni slučajevi</b>'],\n",
        "                  specs=[[{'type':'choropleth'} ,{'type':'choropleth'} ]])\n",
        "\n",
        "fig.add_trace(fig_c['data'][0], row=1, col=1)\n",
        "fig.add_trace(fig_d['data'][0], row=1, col=2)\n",
        "\n",
        "fig.show()"
      ],
      "execution_count": null,
      "outputs": []
    },
    {
      "cell_type": "markdown",
      "metadata": {
        "id": "XT4H5BjdRMXS"
      },
      "source": [
        "# **Analiza slučajeva top 15 država**\n",
        "\n",
        "\n",
        "---\n",
        "\n",
        "\n"
      ]
    },
    {
      "cell_type": "code",
      "metadata": {
        "id": "FnMw1gJoRMXS"
      },
      "source": [
        "top=15\n",
        "fig_c=px.bar(countrywise.sort_values('Confirmed').tail(top), x='Confirmed', y='Country',\n",
        "             text='Confirmed', orientation='h', color_discrete_sequence=['#F86E51'] )\n",
        "fig_d=px.bar(countrywise.sort_values('Deaths').tail(top), x='Deaths', y='Country',\n",
        "             text='Deaths', orientation='h', color_discrete_sequence=['#FB9EC4'] )\n",
        "\n",
        "fig=make_subplots(rows=4, cols=2, shared_xaxes=False, horizontal_spacing=0.14,\n",
        "                  vertical_spacing=.1,\n",
        "                  subplot_titles=('<b>Potvrđeni slučajevi</b>', '<b>Smrtni slučajevi</b>'))\n",
        "\n",
        "fig.add_trace(fig_c['data'][0], row=1, col=1)\n",
        "fig.add_trace(fig_d['data'][0], row=1, col=2)\n",
        "\n",
        "fig.update_layout(height=3000)\n",
        "fig.show()"
      ],
      "execution_count": null,
      "outputs": []
    },
    {
      "cell_type": "code",
      "metadata": {
        "id": "94830QTmRMXS"
      },
      "source": [
        "fig = px.bar(country_daywise, x = 'Date', y = 'Confirmed', color = 'Country', height = 600,\n",
        "             title = '<b>Potvrđeni slučajevi</b>', color_discrete_sequence=px.colors.cyclical.mygbm)\n",
        "fig.update_layout(title_x=0.5)\n",
        "fig.show()"
      ],
      "execution_count": null,
      "outputs": []
    },
    {
      "cell_type": "markdown",
      "metadata": {
        "id": "HwJcP_pCQr_I"
      },
      "source": [
        "# Analiza mape stabla"
      ]
    },
    {
      "cell_type": "markdown",
      "metadata": {
        "id": "-Mq-LhISQr_I"
      },
      "source": [
        "# Potvrdjeni slučajevi\n",
        "\n",
        "---\n",
        "\n"
      ]
    },
    {
      "cell_type": "code",
      "metadata": {
        "id": "kbcoQnSdRMXT"
      },
      "source": [
        "full_latest = df[df['Date'] == max(df['Date'])]\n",
        "\n",
        "fig = px.treemap(full_latest.sort_values(by = 'Confirmed', ascending = False).reset_index(drop = True),\n",
        "                 path = ['Country', 'Province/State'], values = 'Confirmed', height = 700,\n",
        "                 title = '<b>Broj potvrđenih slučajeva</b>',\n",
        "                 color_discrete_sequence = px.colors.qualitative.Dark2)\n",
        "fig.update_layout(title_x=0.5)\n",
        "fig.data[0].textinfo = 'label+text+value'\n",
        "fig.show()"
      ],
      "execution_count": null,
      "outputs": []
    },
    {
      "cell_type": "markdown",
      "metadata": {
        "id": "nwWyyLP5n0Li"
      },
      "source": [
        "## **Covid19 u poređenju sa ostalim epidemijama**\n",
        "\n",
        "\n",
        "---\n",
        "\n"
      ]
    },
    {
      "cell_type": "code",
      "metadata": {
        "id": "6fdyuNgmn2Dq"
      },
      "source": [
        "epidemics = pd.DataFrame({'epidemic' : ['COVID-19','SARS','EBOLA','MERS','H1N1'],\n",
        "                          'start_year' : ['2019','2002','2013','2012','2009'],\n",
        "                          'end_year' : ['2020','2004','2016','2020','2010'],\n",
        "                          'confirmed' : [full_latest['Confirmed'].sum(),8422,28646,2519,7624149],\n",
        "                          'death' : [full_latest['Deaths'].sum(),813,11323,866,19654],\n",
        "                          })\n",
        "\n",
        "epidemics['mortality'] = round((epidemics['death']/epidemics['confirmed'])*100,2)\n",
        "\n",
        "epidemics.head()"
      ],
      "execution_count": null,
      "outputs": []
    },
    {
      "cell_type": "code",
      "metadata": {
        "id": "TUTrn92tn5vo"
      },
      "source": [
        "sample=epidemics.melt(id_vars='epidemic', value_vars=['confirmed','death','mortality'], var_name='Case', value_name = 'Value')\n",
        "\n",
        "fig=px.bar(sample, x='epidemic', y = 'Value', color = 'epidemic', text = 'Value', facet_col = 'Case', color_discrete_sequence=px.colors.qualitative.Bold)\n",
        "\n",
        "fig.update_traces(textposition='outside')\n",
        "fig.update_layout(uniformtext_minsize = 8, uniformtext_mode = 'hide')\n",
        "\n",
        "fig.show() "
      ],
      "execution_count": null,
      "outputs": []
    }
  ]
}